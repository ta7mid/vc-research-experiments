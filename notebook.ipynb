{
 "cells": [
  {
   "cell_type": "code",
   "execution_count": null,
   "id": "b39c6f22-42e0-40ea-9a7a-7dc13304ab26",
   "metadata": {},
   "outputs": [],
   "source": [
    "import os\n",
    "import pathlib\n",
    "import subprocess\n",
    "import sys\n",
    "import typing\n",
    "\n",
    "import networkx as nx\n",
    "import yaml"
   ]
  },
  {
   "cell_type": "code",
   "execution_count": null,
   "id": "675773e8-91ff-4bb5-908a-58d2e73aab23",
   "metadata": {},
   "outputs": [],
   "source": [
    "EXECUTABLE_PATH = {\n",
    "    \"cvc\": \"...\",\n",
    "    \"vc\": \"...\",\n",
    "    \"local_ratio_vc\": \"...\",\n",
    "}\n",
    "\n",
    "data_dir = pathlib.Path(\"data/\")\n",
    "results_dir = pathlib.Path(\"results/\")\n",
    "results_dir.mkdir(exist_ok=True)"
   ]
  },
  {
   "cell_type": "code",
   "execution_count": null,
   "id": "09ab4ef6",
   "metadata": {},
   "outputs": [],
   "source": [
    "def graph_in_dir_is_connected(dir: pathlib.Path) -> bool:\n",
    "    with open(dir / \"properties.yaml\") as f:\n",
    "        props = yaml.load(f, yaml.SafeLoader)\n",
    "        return props[\"connected\"]"
   ]
  },
  {
   "cell_type": "code",
   "execution_count": null,
   "id": "f2628315",
   "metadata": {},
   "outputs": [],
   "source": [
    "def run_cvc(g: nx.Graph) -> tuple[str, str]:\n",
    "    return run_executable_on_graph(EXECUTABLE_PATH[\"cvc\"], g)\n",
    "\n",
    "\n",
    "def run_vc(g: nx.Graph) -> tuple[str, str]:\n",
    "    return run_executable_on_graph(EXECUTABLE_PATH[\"vc\"], g)\n",
    "\n",
    "\n",
    "def run_local_ratio_vc(g: nx.Graph) -> tuple[str, str]:\n",
    "    return run_executable_on_graph(EXECUTABLE_PATH[\"local_ratio_vc\"], g)\n",
    "\n",
    "\n",
    "def run_executable_on_graph(exe_path: pathlib.Path | os.PathLike[typing.Any] | str, g: nx.Graph) -> tuple[str, str]:\n",
    "    assert pathlib.Path(exe_path).is_file()\n",
    "\n",
    "    proc = subprocess.run(\n",
    "        str(exe_path),\n",
    "        input=nx.generate_edgelist(g, data=False),\n",
    "        capture_output=True,\n",
    "        text=True,\n",
    "    )\n",
    "\n",
    "    assert proc.returncode == 0, f'error: subprecess process returned {proc.returncode}; stderr= \"{proc.stderr}\"'\n",
    "    nodes, size = proc.stdout.split(\" => \", maxsplit=1)\n",
    "    return nodes.strip(), size.strip()"
   ]
  },
  {
   "cell_type": "code",
   "execution_count": null,
   "id": "2077cd69-c8dc-4b45-9267-e7596f26331c",
   "metadata": {},
   "outputs": [],
   "source": [
    "for dir in data_dir.iterdir():\n",
    "    print(f\"{dir.name} => \", end=\"\")\n",
    "\n",
    "    if not graph_in_dir_is_connected(dir):\n",
    "        print(\"skipeed (not connected)\")\n",
    "        continue\n",
    "\n",
    "    g = nx.read_edgelist(dir / \"graph.edges\")\n",
    "\n",
    "    cvc_nodes, cvc_card = run_cvc(g)\n",
    "    vc_nodes, vc_card = run_vc(g)\n",
    "    local_ratio_vc_nodes, local_ratio_vc_card = run_local_ratio_vc(g)\n",
    "\n",
    "    res_dir = results_dir / dir.name\n",
    "    res_dir.mkdir(exist_ok=True)\n",
    "\n",
    "    for contents, filename in [\n",
    "        (cvc_nodes, \"cvc_nodes.txt\"),\n",
    "        (cvc_card, \"cvc_cardinality.txt\"),\n",
    "        (vc_nodes, \"vc_nodes.txt\"),\n",
    "        (vc_card, \"vc_cardinality.txt\"),\n",
    "        (local_ratio_vc_nodes, \"local_ratio_vc_nodes.txt\"),\n",
    "        (local_ratio_vc_card, \"local_ratio_vc_cardinality.txt\"),\n",
    "    ]:\n",
    "        with open(res_dir / filename, \"w\") as f:\n",
    "            _ = f.write(contents)\n",
    "\n",
    "    print(f\"results saved to {results_dir.name}/{dir.name}\")"
   ]
  },
  {
   "cell_type": "markdown",
   "id": "5abf9e1b",
   "metadata": {},
   "source": []
  }
 ],
 "metadata": {
  "kernelspec": {
   "display_name": ".venv",
   "language": "python",
   "name": "python3"
  },
  "language_info": {
   "codemirror_mode": {
    "name": "ipython",
    "version": 3
   },
   "file_extension": ".py",
   "mimetype": "text/x-python",
   "name": "python",
   "nbconvert_exporter": "python",
   "pygments_lexer": "ipython3",
   "version": "3.10.16"
  }
 },
 "nbformat": 4,
 "nbformat_minor": 5
}
